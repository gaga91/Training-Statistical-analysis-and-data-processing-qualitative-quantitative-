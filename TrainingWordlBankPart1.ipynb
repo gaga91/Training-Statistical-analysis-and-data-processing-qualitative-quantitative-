{
 "cells": [
  {
   "cell_type": "markdown",
   "metadata": {},
   "source": [
    "Variable names may contain letters, digits (0-9) or the underscore character _. <br>\n",
    "Variable names must begin with a letter from A-Z or the underscore _ character. <br> \n",
    "Either lowercase or uppercase letters are acceptable. <br>\n",
    "Variable names may not be a reserved word in Python (Python's reserved words list includes: False, True, None, and, as, assert, async, await, def, del, elif, else, break, class, continue, except, finally, for, from, global, if, import, in, is, lambda, nonlocal, not, or, pass, raise, return, try, while, with and yield)."
   ]
  },
  {
   "cell_type": "code",
   "execution_count": 1,
   "metadata": {},
   "outputs": [
    {
     "name": "stdout",
     "output_type": "stream",
     "text": [
      "Welcome to the Training - Statistical analysis and data processing!\n"
     ]
    }
   ],
   "source": [
    "print('Welcome to the Training - Statistical analysis and data processing!')"
   ]
  },
  {
   "cell_type": "markdown",
   "metadata": {},
   "source": [
    "NumPy is a Python library. NumPy is used for working with arrays. NumPy is very useful for performing mathematical and logical operations on arrays, but also on n-arrays and matrices in Python.\n",
    "\n",
    "\n",
    "The following link contains the official website of the NumPy library: https://numpy.org/"
   ]
  },
  {
   "cell_type": "code",
   "execution_count": 1,
   "metadata": {},
   "outputs": [],
   "source": [
    "import numpy as np \n",
    "# function array() creates an array \n",
    "# numpy.array(object, dtype=None, *, copy=True, order='K', subok=False, ndmin=0,like=None)\n",
    "a=np.array([1,2,3])"
   ]
  },
  {
   "cell_type": "code",
   "execution_count": 3,
   "metadata": {},
   "outputs": [
    {
     "name": "stdout",
     "output_type": "stream",
     "text": [
      "[1 2 3]\n"
     ]
    }
   ],
   "source": [
    "print(a)"
   ]
  },
  {
   "cell_type": "code",
   "execution_count": 4,
   "metadata": {},
   "outputs": [],
   "source": [
    "#1-D Arrays\n",
    "#Example 1: Create an array a of 7 elements. Print size, shape\n",
    "# and dimension of an array a. (veličina, oblik i dimenzija niza a.)"
   ]
  },
  {
   "cell_type": "code",
   "execution_count": 5,
   "metadata": {},
   "outputs": [],
   "source": [
    "a = np.array([1, 2, 3, 4, 5, 6,7])"
   ]
  },
  {
   "cell_type": "code",
   "execution_count": 6,
   "metadata": {},
   "outputs": [
    {
     "name": "stdout",
     "output_type": "stream",
     "text": [
      "Array a:\n",
      "[1 2 3 4 5 6 7]\n"
     ]
    }
   ],
   "source": [
    "print('Array a:')\n",
    "print(a)"
   ]
  },
  {
   "cell_type": "code",
   "execution_count": 7,
   "metadata": {},
   "outputs": [
    {
     "name": "stdout",
     "output_type": "stream",
     "text": [
      "size of a:  7\n"
     ]
    }
   ],
   "source": [
    "print('size of a: ', a.size)"
   ]
  },
  {
   "cell_type": "code",
   "execution_count": 8,
   "metadata": {},
   "outputs": [
    {
     "name": "stdout",
     "output_type": "stream",
     "text": [
      "The array is of shape: (7,)\n"
     ]
    }
   ],
   "source": [
    "print('The array is of shape:', a.shape)"
   ]
  },
  {
   "cell_type": "code",
   "execution_count": 9,
   "metadata": {},
   "outputs": [
    {
     "name": "stdout",
     "output_type": "stream",
     "text": [
      "The array has dimensions: 1\n"
     ]
    }
   ],
   "source": [
    "print('The array has dimensions:', a.ndim)"
   ]
  },
  {
   "cell_type": "code",
   "execution_count": 10,
   "metadata": {},
   "outputs": [],
   "source": [
    "M = np.array([[2, 3, 7], [4, 9, 8]], dtype='float32')"
   ]
  },
  {
   "cell_type": "markdown",
   "metadata": {},
   "source": [
    "The NumPy package supports default types such as int_, float_, bool_ and complex_, but also offers the ability to work with types of different ranges and precision such as int8, int16, uint8, float32, float64, complex128...\n"
   ]
  },
  {
   "cell_type": "code",
   "execution_count": 11,
   "metadata": {},
   "outputs": [
    {
     "name": "stdout",
     "output_type": "stream",
     "text": [
      "Matrx M:\n",
      "[[2. 3. 7.]\n",
      " [4. 9. 8.]]\n",
      "shape = (2, 3)\n",
      "size = 6\n",
      "ndim = 2\n",
      "dtype = float32\n"
     ]
    }
   ],
   "source": [
    "M = np.array([[2, 3, 7], [4, 9, 8]], dtype='float32')\n",
    "print('Matrx M:')\n",
    "print(M)\n",
    "print('shape =', M.shape)\n",
    "print('size =', M.size)\n",
    "print('ndim =', M.ndim)\n",
    "print('dtype =', M.dtype)"
   ]
  },
  {
   "cell_type": "code",
   "execution_count": 18,
   "metadata": {},
   "outputs": [
    {
     "name": "stdout",
     "output_type": "stream",
     "text": [
      "[[2. 3. 7.]\n",
      " [4. 9. 8.]]\n"
     ]
    }
   ],
   "source": [
    "print(M)"
   ]
  },
  {
   "cell_type": "code",
   "execution_count": 12,
   "metadata": {},
   "outputs": [],
   "source": [
    "#join two arrays\n",
    "#numpy.concatenate((a1, a2, ...), axis=0, out=None, dtype=None, casting=\"same_kind\")\n",
    "#Join a sequence of arrays along an existing axis.\n",
    "arr1 = np.array([1, 2, 3])\n",
    "\n",
    "arr2 = np.array([4, 5, 6])\n",
    "\n",
    "arr = np.concatenate((arr1, arr2))"
   ]
  },
  {
   "cell_type": "code",
   "execution_count": 13,
   "metadata": {},
   "outputs": [
    {
     "name": "stdout",
     "output_type": "stream",
     "text": [
      "[1 2 3 4 5 6]\n"
     ]
    }
   ],
   "source": [
    "print(arr)"
   ]
  },
  {
   "cell_type": "code",
   "execution_count": 14,
   "metadata": {},
   "outputs": [
    {
     "name": "stdout",
     "output_type": "stream",
     "text": [
      "[[1 4]\n",
      " [2 5]\n",
      " [3 6]]\n"
     ]
    }
   ],
   "source": [
    "#stack() method\n",
    "#Join a sequence of arrays along a new axis.\n",
    "arr1 = np.array([1, 2, 3])\n",
    "\n",
    "arr2 = np.array([4, 5, 6])\n",
    "\n",
    "arr = np.stack((arr1, arr2), axis=1)\n",
    "\n",
    "print(arr)"
   ]
  },
  {
   "cell_type": "code",
   "execution_count": 15,
   "metadata": {},
   "outputs": [
    {
     "name": "stdout",
     "output_type": "stream",
     "text": [
      "[1 2 3 4 5 6]\n"
     ]
    }
   ],
   "source": [
    "#numpy.hstack(tup, *, dtype=None, casting='same_kind')\n",
    "#Stack arrays in sequence horizontally (column wise).\n",
    "arr1 = np.array([1, 2, 3])\n",
    "\n",
    "arr2 = np.array([4, 5, 6])\n",
    "\n",
    "arr = np.hstack((arr1, arr2))\n",
    "\n",
    "print(arr)"
   ]
  },
  {
   "cell_type": "code",
   "execution_count": 16,
   "metadata": {},
   "outputs": [
    {
     "name": "stdout",
     "output_type": "stream",
     "text": [
      "[[1 2 3]\n",
      " [4 5 6]]\n"
     ]
    }
   ],
   "source": [
    "#numpy.vstack(tup, *, dtype=None, casting='same_kind')\n",
    "#Stack arrays in sequence vertically (row wise).\n",
    "arr1 = np.array([1, 2, 3])\n",
    "\n",
    "arr2 = np.array([4, 5, 6])\n",
    "\n",
    "arr = np.vstack((arr1, arr2))\n",
    "\n",
    "print(arr)"
   ]
  },
  {
   "cell_type": "code",
   "execution_count": 8,
   "metadata": {},
   "outputs": [
    {
     "name": "stdout",
     "output_type": "stream",
     "text": [
      "32\n",
      "1\n",
      "6\n",
      "[2 3]\n"
     ]
    }
   ],
   "source": [
    "x = np.array([1, 2, 3])\n",
    "\n",
    "y = np.array([4, 5, 6])\n",
    "#sum of elements of scalar product\n",
    "print(np.sum(x * y))\n",
    "# min element of an array x\n",
    "print(np.min(x))\n",
    "# the maximum element of an array y\n",
    "print(y.max())\n",
    "#elements of an array x that are greater than 1.5\n",
    "print(x[x > 1.5])"
   ]
  },
  {
   "cell_type": "code",
   "execution_count": 15,
   "metadata": {},
   "outputs": [
    {
     "name": "stdout",
     "output_type": "stream",
     "text": [
      "a7= [0. 0. 0. 0. 0. 0. 0. 0.]\n",
      "M1 =\n",
      " [[1. 1. 1.]\n",
      " [1. 1. 1.]]\n",
      "M2 =\n",
      " [[1. 0. 0.]\n",
      " [0. 1. 0.]\n",
      " [0. 0. 1.]]\n",
      "M3 =\n",
      " [[7 0 0 0]\n",
      " [0 3 0 0]\n",
      " [0 0 2 0]\n",
      " [0 0 0 1]]\n"
     ]
    }
   ],
   "source": [
    "#Create an array a7 consisting only of 8 zeros\n",
    "a7 = np.zeros(8)\n",
    "print('a7=',a7)\n",
    "\n",
    "#Create the matrix M_1 of dimension  $2 \\times 3$ consisting only of units\n",
    "M1 = np.ones((2, 3))\n",
    "print('M1 =\\n', M1)\n",
    "\n",
    "#Create unit matrix $ M_2 $ of dimension 3\n",
    "\n",
    "#the identity matrix (sometimes ambiguously called a unit matrix) of size n is the n × n square matrix \n",
    "#with ones on the main diagonal and zeros elsewhere\n",
    "M2 = np.eye(3)\n",
    "print('M2 =\\n', M2)\n",
    "\n",
    "#create the diagonal matrix $ M_3 $ on whose main diagonal are the numbers 7, 3, 2 and 1.\n",
    "M3 = np.diag([7, 3, 2, 1])\n",
    "print('M3 =\\n', M3)\n",
    "\n"
   ]
  },
  {
   "cell_type": "markdown",
   "metadata": {},
   "source": [
    "Random generation\n",
    "\n",
    "The numpy.random module implements pseudo-random number generators with the ability to draw samples from a variety of probability distributions."
   ]
  },
  {
   "cell_type": "code",
   "execution_count": 16,
   "metadata": {},
   "outputs": [
    {
     "name": "stdout",
     "output_type": "stream",
     "text": [
      "a4 = [[0.39396125 0.64006194]\n",
      " [0.64538942 0.80475872]]\n"
     ]
    }
   ],
   "source": [
    "#random.random(size=None)\n",
    "# Return random floats in the half-open interval [0.0, 1.0).\n",
    "a4 = np.random.random((2, 2)) \n",
    "print('a4 =', a4)"
   ]
  },
  {
   "cell_type": "code",
   "execution_count": 17,
   "metadata": {},
   "outputs": [
    {
     "name": "stdout",
     "output_type": "stream",
     "text": [
      "a5 = [4.1345745  2.70310538 4.67931533 2.9960643  4.79027231]\n"
     ]
    }
   ],
   "source": [
    "#random.uniform(low=0.0, high=1.0, size=None)\n",
    "a5 = np.random.uniform(2, 5, 5)\n",
    "print('a5 =', a5)"
   ]
  },
  {
   "cell_type": "code",
   "execution_count": 18,
   "metadata": {},
   "outputs": [
    {
     "name": "stdout",
     "output_type": "stream",
     "text": [
      "Values from the third until the fourth element in the zero row: [4 5]\n"
     ]
    }
   ],
   "source": [
    "M = np.arange(25).reshape(5, 5) + 1\n",
    "print ('Values from the third until the fourth element in the zero row:', M [0,3: 5])\n"
   ]
  },
  {
   "cell_type": "code",
   "execution_count": 19,
   "metadata": {},
   "outputs": [
    {
     "name": "stdout",
     "output_type": "stream",
     "text": [
      "[[ 1  2  3  4  5]\n",
      " [ 6  7  8  9 10]\n",
      " [11 12 13 14 15]\n",
      " [16 17 18 19 20]\n",
      " [21 22 23 24 25]]\n"
     ]
    }
   ],
   "source": [
    "print(M)"
   ]
  },
  {
   "cell_type": "code",
   "execution_count": 20,
   "metadata": {},
   "outputs": [
    {
     "name": "stdout",
     "output_type": "stream",
     "text": [
      "Elements of every second row starting from the 2nd row and elements of every second column starting from the zero column: \\ n [[11 13 15]\n",
      " [21 23 25]]\n"
     ]
    }
   ],
   "source": [
    "print ('Elements of every second row starting from the 2nd row and elements of every second column starting from the zero column: \\ n',M[2::2,::2])"
   ]
  },
  {
   "cell_type": "code",
   "execution_count": 21,
   "metadata": {},
   "outputs": [
    {
     "name": "stdout",
     "output_type": "stream",
     "text": [
      "Elements with coordinates (0,2), (1,3), (2,4): [ 3  9 15]\n"
     ]
    }
   ],
   "source": [
    "print ('Elements with coordinates (0,2), (1,3), (2,4):', M[(0,1,2),(2,3,4)])"
   ]
  },
  {
   "cell_type": "code",
   "execution_count": 9,
   "metadata": {},
   "outputs": [],
   "source": [
    "M1=np.array([[1,3,5],[7,9,11],[13,15,17]])\n",
    "M2=np.array([[2,4,6],[8,10,12],[14,16,18]])"
   ]
  },
  {
   "cell_type": "code",
   "execution_count": 10,
   "metadata": {},
   "outputs": [
    {
     "name": "stdout",
     "output_type": "stream",
     "text": [
      "M1-M2= [[-1 -1 -1]\n",
      " [-1 -1 -1]\n",
      " [-1 -1 -1]]\n"
     ]
    }
   ],
   "source": [
    "print('M1-M2=',M1-M2)"
   ]
  },
  {
   "cell_type": "code",
   "execution_count": 11,
   "metadata": {},
   "outputs": [
    {
     "name": "stdout",
     "output_type": "stream",
     "text": [
      "[[ 3  7 11]\n",
      " [15 19 23]\n",
      " [27 31 35]]\n"
     ]
    }
   ],
   "source": [
    "print(M1+M2)"
   ]
  },
  {
   "cell_type": "code",
   "execution_count": 12,
   "metadata": {},
   "outputs": [
    {
     "data": {
      "text/plain": [
       "array([[ 1,  7, 13],\n",
       "       [ 3,  9, 15],\n",
       "       [ 5, 11, 17]])"
      ]
     },
     "execution_count": 12,
     "metadata": {},
     "output_type": "execute_result"
    }
   ],
   "source": [
    "M1.transpose()"
   ]
  },
  {
   "cell_type": "code",
   "execution_count": 13,
   "metadata": {},
   "outputs": [
    {
     "data": {
      "text/plain": [
       "array([[7.38905610e+00, 5.45981500e+01, 4.03428793e+02],\n",
       "       [2.98095799e+03, 2.20264658e+04, 1.62754791e+05],\n",
       "       [1.20260428e+06, 8.88611052e+06, 6.56599691e+07]])"
      ]
     },
     "execution_count": 13,
     "metadata": {},
     "output_type": "execute_result"
    }
   ],
   "source": [
    "np.exp(M2)"
   ]
  },
  {
   "cell_type": "code",
   "execution_count": 16,
   "metadata": {},
   "outputs": [],
   "source": [
    "A=np.array([[1,2,3],[4,5,7]])\n",
    "B=np.array([[1,2,3],[4,7,7]])"
   ]
  },
  {
   "cell_type": "code",
   "execution_count": 17,
   "metadata": {},
   "outputs": [
    {
     "name": "stdout",
     "output_type": "stream",
     "text": [
      "False\n"
     ]
    }
   ],
   "source": [
    "print(np.array_equal(A,B))"
   ]
  },
  {
   "cell_type": "code",
   "execution_count": 18,
   "metadata": {},
   "outputs": [
    {
     "name": "stdout",
     "output_type": "stream",
     "text": [
      "[[ True  True  True]\n",
      " [ True False  True]]\n"
     ]
    }
   ],
   "source": [
    "print(A==B)"
   ]
  },
  {
   "cell_type": "code",
   "execution_count": 19,
   "metadata": {},
   "outputs": [
    {
     "data": {
      "text/plain": [
       "3"
      ]
     },
     "execution_count": 19,
     "metadata": {},
     "output_type": "execute_result"
    }
   ],
   "source": [
    "np.sum(B[B==3])"
   ]
  },
  {
   "cell_type": "code",
   "execution_count": 20,
   "metadata": {},
   "outputs": [
    {
     "data": {
      "text/plain": [
       "array([1, 2, 3, 4, 5, 7])"
      ]
     },
     "execution_count": 20,
     "metadata": {},
     "output_type": "execute_result"
    }
   ],
   "source": [
    "#matrix.flatten()\n",
    "A.flatten()"
   ]
  },
  {
   "cell_type": "markdown",
   "metadata": {},
   "source": [
    "Matplotlib is a comprehensive library for creating static, animated, and interactive visualizations in Python.\n",
    "https://matplotlib.org/"
   ]
  },
  {
   "cell_type": "code",
   "execution_count": 2,
   "metadata": {},
   "outputs": [],
   "source": [
    "import numpy as np\n",
    "import matplotlib.pyplot as plt"
   ]
  },
  {
   "cell_type": "markdown",
   "metadata": {},
   "source": [
    "*1.* Graph of the function y = sin(x) on an equidistant grid of 100 points from the interval [1, 20]."
   ]
  },
  {
   "cell_type": "code",
   "execution_count": 4,
   "metadata": {},
   "outputs": [
    {
     "data": {
      "image/png": "[encoded data removed]",
      "text/plain": [
       "<Figure size 432x288 with 1 Axes>"
      ]
     },
     "metadata": {
      "needs_background": "light"
     },
     "output_type": "display_data"
    }
   ],
   "source": [
    "x = np.linspace (0, 10, 100)\n",
    "y = np.sin (x)\n",
    "\n",
    "# Adjust graphic titles and axis features\n",
    "plt.title ('Function graph y = sin (x)')\n",
    "plt.xlabel ('x')\n",
    "plt.ylabel ('y')\n",
    "\n",
    "# drawing graphics\n",
    "plt.plot (x, y)\n",
    "\n",
    "#view graphics\n",
    "plt.show ()"
   ]
  },
  {
   "cell_type": "code",
   "execution_count": 3,
   "metadata": {},
   "outputs": [
    {
     "data": {
      "image/png": "[encoded data removed]",
      "text/plain": [
       "<Figure size 432x288 with 1 Axes>"
      ]
     },
     "metadata": {
      "needs_background": "light"
     },
     "output_type": "display_data"
    }
   ],
   "source": [
    "x = np.linspace (-np.pi, np.pi, 100)\n",
    "y_sin = np.sin (x)\n",
    "y_cos = np.cos (x)\n",
    "\n",
    "# Draw functions with settings for display colors and features that will appear in the legend\n",
    "plt.plot (x, y_sin, label = 'sin', color = 'blue')\n",
    "plt.plot (x, y_cos, label = 'cos', color = 'green')\n",
    "\n",
    "# setting a legend\n",
    "plt.legend (loc = 'upper left')\n",
    "\n",
    "#view graphics\n",
    "plt.show ()"
   ]
  },
  {
   "cell_type": "markdown",
   "metadata": {},
   "source": [
    "*2.*  Graph of the function y = sin(x) on the interval [-2pi, 2pi] with settings for graph style and split axes."
   ]
  },
  {
   "cell_type": "code",
   "execution_count": 5,
   "metadata": {},
   "outputs": [
    {
     "data": {
      "image/png": "[encoded data removed]",
      "text/plain": [
       "<Figure size 560x400 with 1 Axes>"
      ]
     },
     "metadata": {
      "needs_background": "light"
     },
     "output_type": "display_data"
    }
   ],
   "source": [
    "plt.figure(figsize=(7,5),dpi=80)\n",
    "plt.xlim(-7,7)\n",
    "plt.ylim(-1,1)\n",
    "\n",
    "plt.xticks(np.linspace(-7,7,15))\n",
    "plt.yticks(np.linspace(-1,1,9))\n",
    "\n",
    "x=np.linspace(-2*np.pi, 2*np.pi, 100)\n",
    "y = np.sin(x)\n",
    "\n",
    "plt.plot(x, y, linewidth='3', linestyle='--')\n",
    "\n",
    "plt.savefig(\"sinus.jpg\")\n",
    "\n",
    "plt.show()"
   ]
  },
  {
   "cell_type": "code",
   "execution_count": 6,
   "metadata": {},
   "outputs": [
    {
     "data": {
      "image/png": "[encoded data removed]",
      "text/plain": [
       "<Figure size 360x360 with 1 Axes>"
      ]
     },
     "metadata": {},
     "output_type": "display_data"
    }
   ],
   "source": [
    "#graphic size adjustment\n",
    "plt.figure(figsize=(5, 5))\n",
    "\n",
    "#graphic title setting\n",
    "plt.title('Zastupljenost programskih jezika')\n",
    "\n",
    "#input assignment\n",
    "oznake = ['JavaScript', 'Python', 'C#']\n",
    "sizes=[50, 40, 15]\n",
    "boje=['green', 'yellow', 'orange']\n",
    "\n",
    "#drawing the pie\n",
    "plt.pie(sizes, colors=boje, labels=oznake)\n",
    "\n",
    "plt.show()"
   ]
  },
  {
   "cell_type": "code",
   "execution_count": 7,
   "metadata": {},
   "outputs": [
    {
     "data": {
      "image/png": "[encoded data removed]",
      "text/plain": [
       "<Figure size 432x288 with 1 Axes>"
      ]
     },
     "metadata": {
      "needs_background": "light"
     },
     "output_type": "display_data"
    }
   ],
   "source": [
    "#lists of categorical values\n",
    "osobe=['Ana', 'Marija', 'Maksim', 'Jana', 'Petar']\n",
    "godine=[23,42,12,43,28]\n",
    "\n",
    "plt.bar(osobe, godine, color='yellow')\n",
    "\n",
    "plt.show()"
   ]
  },
  {
   "cell_type": "code",
   "execution_count": 8,
   "metadata": {},
   "outputs": [
    {
     "data": {
      "image/png": "[encoded data removed]",
      "text/plain": [
       "<Figure size 432x288 with 1 Axes>"
      ]
     },
     "metadata": {
      "needs_background": "light"
     },
     "output_type": "display_data"
    }
   ],
   "source": [
    "#arrays of length 10 with arbitrary elements from the interval [0, 20]\n",
    "x=np.random.randint(low=0, high=20, size=10)\n",
    "y=np.random.randint(low=0, high=20, size=10)\n",
    "\n",
    "plt.scatter(x,y, color='green', marker='v')\n",
    "\n",
    "plt.show()"
   ]
  },
  {
   "cell_type": "code",
   "execution_count": null,
   "metadata": {},
   "outputs": [],
   "source": []
  }
 ],
 "metadata": {
  "kernelspec": {
   "display_name": "Python 3",
   "language": "python",
   "name": "python3"
  },
  "language_info": {
   "codemirror_mode": {
    "name": "ipython",
    "version": 3
   },
   "file_extension": ".py",
   "mimetype": "text/x-python",
   "name": "python",
   "nbconvert_exporter": "python",
   "pygments_lexer": "ipython3",
   "version": "3.7.3"
  }
 },
 "nbformat": 4,
 "nbformat_minor": 2
}
